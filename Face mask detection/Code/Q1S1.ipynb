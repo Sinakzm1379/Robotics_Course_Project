{
 "cells": [
  {
   "cell_type": "markdown",
   "metadata": {},
   "source": [
    "# Lib"
   ]
  },
  {
   "cell_type": "code",
   "execution_count": null,
   "metadata": {},
   "outputs": [],
   "source": [
    "from keras.models import load_model\n",
    "import cv2\n",
    "import numpy as np"
   ]
  },
  {
   "cell_type": "markdown",
   "metadata": {},
   "source": [
    "# Data"
   ]
  },
  {
   "cell_type": "code",
   "execution_count": null,
   "metadata": {},
   "outputs": [],
   "source": [
    "# Load the model\n",
    "MyModel = load_model(\"Data\\model.h5\")\n",
    "# Load the cascade\n",
    "face_cascade = cv2.CascadeClassifier(r\"Data\\haarcascade_frontalface_default.xml\")"
   ]
  },
  {
   "cell_type": "markdown",
   "metadata": {},
   "source": [
    "# Mask Detection"
   ]
  },
  {
   "cell_type": "code",
   "execution_count": null,
   "metadata": {},
   "outputs": [],
   "source": [
    "results={0:'without mask',1:'mask'}\n",
    "GR_dict={0:(0,0,255),1:(0,255,0)}\n",
    "rect_size = 4\n",
    "Border = 0.5\n",
    "cap = cv2.VideoCapture(0)\n",
    "while True:\n",
    "    # read image\n",
    "    _, img = cap.read()\n",
    "    # resize image\n",
    "    gray = cv2.cvtColor(img, cv2.COLOR_BGR2GRAY)\n",
    "    # resize image\n",
    "    rerect_size = cv2.resize(gray, (img.shape[1] // rect_size, img.shape[0] // rect_size))\n",
    "    # Detect faces\n",
    "    faces = face_cascade.detectMultiScale(rerect_size)\n",
    "    if len(faces) > 0:\n",
    "        for f in faces:\n",
    "            (x, y, w, h) = [v * rect_size for v in f]\n",
    "            y0, y1, x0, x1 = int(y-0.25*h),int(y+1.25*h), int(x-0.25*w),int(x+1.25*w)\n",
    "            # focus on the face\n",
    "            if (y0)<0: y0 = 1\n",
    "            if (y1)>img.shape[0] : y1 = img.shape[0]-1\n",
    "            if (x0)<0: x0 = 1\n",
    "            if (x1)>img.shape[1] : x1 = img.shape[1]-1\n",
    "            face_img = img[y0:y1,x0:x1]\n",
    "            # resize the face\n",
    "            rerect_sized = cv2.resize(face_img,(150,150))\n",
    "            normalized = rerect_sized/255.0\n",
    "            reshaped = np.reshape(normalized,(1,150,150,3))\n",
    "            reshaped = np.vstack([reshaped])\n",
    "            # predict mask\n",
    "            result = MyModel.predict(reshaped)\n",
    "            # tag label\n",
    "            if result[0][0] >= Border:label = 1\n",
    "            else: label = 0\n",
    "            Percent = str(int(result[0][0]*1000)/10) + '%'\n",
    "            FinalText = results[label] + \" - \" + Percent\n",
    "            # show rectangle on image\n",
    "            cv2.rectangle(img,(x,y),(x+w,y+h),GR_dict[label],2)\n",
    "            cv2.rectangle(img,(x,y-40),(x+w,y),GR_dict[label],-1)\n",
    "            cv2.putText(img, FinalText, (x, y-10),cv2.FONT_HERSHEY_SIMPLEX,0.8,(255,255,255),2)\n",
    "    else:\n",
    "        face_img = img\n",
    "        # resize the face\n",
    "        rerect_sized = cv2.resize(face_img,(150,150))\n",
    "        normalized = rerect_sized/255.0\n",
    "        reshaped = np.reshape(normalized,(1,150,150,3))\n",
    "        reshaped = np.vstack([reshaped])\n",
    "        # predict mask\n",
    "        result = MyModel.predict(reshaped)\n",
    "        # tag label\n",
    "        if result[0][0] >= Border:label = 1\n",
    "        else: label = 0\n",
    "        Percent = str(int(result[0][0]*1000)/10) + '%'\n",
    "        FinalText = results[label] + \" - \" + Percent\n",
    "        cv2.rectangle(img,(10,10),(250,50),GR_dict[label],-1)\n",
    "        cv2.putText(img, FinalText, (10, 40),cv2.FONT_HERSHEY_SIMPLEX,0.8,(255,255,255),2)\n",
    "    # Display the output\n",
    "    cv2.imshow('LIVE', img)\n",
    "    k = cv2.waitKey(10)\n",
    "    if k == 27:\n",
    "        break\n",
    "cap.release()\n",
    "cv2.destroyAllWindows()"
   ]
  }
 ],
 "metadata": {
  "kernelspec": {
   "display_name": "Python 3.9.12 ('base')",
   "language": "python",
   "name": "python3"
  },
  "language_info": {
   "codemirror_mode": {
    "name": "ipython",
    "version": 3
   },
   "file_extension": ".py",
   "mimetype": "text/x-python",
   "name": "python",
   "nbconvert_exporter": "python",
   "pygments_lexer": "ipython3",
   "version": "3.9.12"
  },
  "orig_nbformat": 4,
  "vscode": {
   "interpreter": {
    "hash": "0f19e0ae6736cb9598b0ab051d1f01b271178d882752acb14b03590f534b6e7b"
   }
  }
 },
 "nbformat": 4,
 "nbformat_minor": 2
}
